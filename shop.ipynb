#shop

class Shop:
    def __init__(item,id,name,price):
        item.id = id
        item.name = name
        item.price = price

item_1 = Shop(1,"chips",25000)
item_2 = Shop(2,"yogurt",34500)
item_3 = Shop(3,"milk",20000)
item_4 = Shop(4,"water",5000)

print("____________________________")
print(f"|  {item_1.id}  |  {item_1.name}   |  {item_1.price}  |")
print(f"|  {item_2.id}  |  {item_2.name}  |  {item_2.price}  |")
print(f"|  {item_3.id}  |   {item_3.name}   |  {item_3.price}  |")
print(f"|  {item_4.id}  |   {item_4.name}  |  {item_4.price}   |")
print("|_____|__________|_________|")

chois = ""

total_pay = 0
again = "y"

while again == "y":
    chois = int(input ("which one will you chose? "))
    if chois == 1:
        print(f"you select {item_1.name} .so you should pay {item_1.price}T")
        total_pay += item_1.price
    elif chois == 2:
        print(f"you select {item_2.name} .so you should pay {item_2.price}T")
        total_pay += item_2.price
    elif chois == 3:
        print(f"you select {item_3.name} .so you should pay {item_3.price}T")
        total_pay += item_3.price
    elif chois == 4:
        print(f"you select {item_4.name} .so you should pay {item_4.price}T")
        total_pay += item_4.price
    again = input("do you want to buy anything else?y/n: ")

print(f"thanks for shopping. you should pay {total_pay}T")

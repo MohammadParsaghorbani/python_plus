{
 "cells": [
  {
   "cell_type": "code",
   "execution_count": null,
   "metadata": {},
   "outputs": [],
   "source": [
    "p_1_u = []\n",
    "p_1_d = []\n",
    "p_2_u = []\n",
    "p_2_d = []\n",
    "\n",
    "p_1_c = input(\"p_1, choos the floor u/d(like uuuu): \")\n",
    "p_2_c = input(\"p_2, choos the floor u/d(like uuuu): \")\n",
    "\n",
    "def f1 (up,down):\n",
    "    print(f\"you are in floor {up - down}\")\n",
    "\n",
    "for floor in p_1_c:\n",
    "    if floor == \"u\":\n",
    "        p_1_u.append(floor)\n",
    "    elif floor == \"d\":\n",
    "        p_1_d.append(floor)\n",
    "    while floor != \"u\" and floor != \"d\":\n",
    "        print(\"***please enter u/d***\")\n",
    "        p_1_c = input(\"p_1, choos the floor u/d(like uuuu): \")\n",
    "\n",
    "for floor in p_2_c:\n",
    "    if floor == \"u\":\n",
    "        p_2_u.append(floor)\n",
    "    elif floor == \"d\":\n",
    "        p_2_d.append(floor)\n",
    "    while floor != \"u\" and floor != \"d\":\n",
    "        print(\"***please enter u/d***\")\n",
    "        p_2_c = input(\"p_2, choos the floor u/d(like uuuu): \")\n",
    "up=len(p_1_u) + len(p_2_u)\n",
    "down = len(p_1_d) + len(p_2_d)\n",
    "f1(up,down)"
   ]
  },
  {
   "cell_type": "code",
   "execution_count": null,
   "metadata": {},
   "outputs": [],
   "source": [
    "class Customer:\n",
    "    def __init__(self,id,name,age,city):\n",
    "        self.id = id\n",
    "        self.name = name\n",
    "        self.age = age\n",
    "        self.city = city\n",
    "\n",
    " \n",
    "\n",
    "id = input(\"enter your id: \")\n",
    "name = input(\"enter your name: \")\n",
    "age = int(input(\"enter your age\"))\n",
    "city = input(\"enter your city: \")\n",
    "\n",
    "customer_info =  Customer(id,name,age,city)\n",
    "\n",
    "print(f\"so,your id is {id} and your name is {name}.you are {age} years old and you live in {city}\")\n"
   ]
  },
  {
   "cell_type": "code",
   "execution_count": 5,
   "metadata": {},
   "outputs": [
    {
     "name": "stdout",
     "output_type": "stream",
     "text": [
      "____________________________\n",
      "|  1  |  chips   |  25000  |\n",
      "|  2  |  yogurt  |  34500  |\n",
      "|  3  |   milk   |  20000  |\n",
      "|  4  |   water  |  5000   |\n",
      "|_____|__________|_________|\n",
      "you select chips .so you should pay 25000T\n",
      "you select yogurt .so you should pay 34500T\n",
      "thanks for shopping. you should pay 59500T\n"
     ]
    }
   ],
   "source": [
    "#shop\n",
    "\n",
    "class Shop:\n",
    "    def __init__(item,id,name,price):\n",
    "        item.id = id\n",
    "        item.name = name\n",
    "        item.price = price\n",
    "\n",
    "item_1 = Shop(1,\"chips\",25000)\n",
    "item_2 = Shop(2,\"yogurt\",34500)\n",
    "item_3 = Shop(3,\"milk\",20000)\n",
    "item_4 = Shop(4,\"water\",5000)\n",
    "\n",
    "print(\"____________________________\")\n",
    "print(f\"|  {item_1.id}  |  {item_1.name}   |  {item_1.price}  |\")\n",
    "print(f\"|  {item_2.id}  |  {item_2.name}  |  {item_2.price}  |\")\n",
    "print(f\"|  {item_3.id}  |   {item_3.name}   |  {item_3.price}  |\")\n",
    "print(f\"|  {item_4.id}  |   {item_4.name}  |  {item_4.price}   |\")\n",
    "print(\"|_____|__________|_________|\")\n",
    "\n",
    "chois = \"\"\n",
    "\n",
    "total_pay = 0\n",
    "again = \"y\"\n",
    "\n",
    "while again == \"y\":\n",
    "    chois = int(input (\"which one will you chose? \"))\n",
    "    if chois == 1:\n",
    "        print(f\"you select {item_1.name} .so you should pay {item_1.price}T\")\n",
    "        total_pay += item_1.price\n",
    "    elif chois == 2:\n",
    "        print(f\"you select {item_2.name} .so you should pay {item_2.price}T\")\n",
    "        total_pay += item_2.price\n",
    "    elif chois == 3:\n",
    "        print(f\"you select {item_3.name} .so you should pay {item_3.price}T\")\n",
    "        total_pay += item_3.price\n",
    "    elif chois == 4:\n",
    "        print(f\"you select {item_4.name} .so you should pay {item_4.price}T\")\n",
    "        total_pay += item_4.price\n",
    "    again = input(\"do you want to buy anything else?y/n: \")\n",
    "\n",
    "print(f\"thanks for shopping. you should pay {total_pay}T\")"
   ]
  }
 ],
 "metadata": {
  "kernelspec": {
   "display_name": "Python 3",
   "language": "python",
   "name": "python3"
  },
  "language_info": {
   "codemirror_mode": {
    "name": "ipython",
    "version": 3
   },
   "file_extension": ".py",
   "mimetype": "text/x-python",
   "name": "python",
   "nbconvert_exporter": "python",
   "pygments_lexer": "ipython3",
   "version": "3.12.3"
  }
 },
 "nbformat": 4,
 "nbformat_minor": 2
}

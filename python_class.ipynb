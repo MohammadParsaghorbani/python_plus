p_1_u = []
p_1_d = []
p_2_u = []
p_2_d = []

p_1_c = input("p_1, choos the floor u/d(like uuuu): ")
p_2_c = input("p_2, choos the floor u/d(like uuuu): ")

def f1 (up,down):
    print(f"you are in floor {up - down}")

for floor in p_1_c:
    if floor == "u":
        p_1_u.append(floor)
    elif floor == "d":
        p_1_d.append(floor)
    while floor != "u" and floor != "d":
        print("***please enter u/d***")
        p_1_c = input("p_1, choos the floor u/d(like uuuu): ")

for floor in p_2_c:
    if floor == "u":
        p_2_u.append(floor)
    elif floor == "d":
        p_2_d.append(floor)
    while floor != "u" and floor != "d":
        print("***please enter u/d***")
        p_2_c = input("p_2, choos the floor u/d(like uuuu): ")
up=len(p_1_u) + len(p_2_u)
down = len(p_1_d) + len(p_2_d)
f1(up,down)
